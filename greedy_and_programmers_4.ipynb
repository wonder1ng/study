{
 "cells": [
  {
   "cell_type": "code",
   "execution_count": 11,
   "metadata": {},
   "outputs": [
    {
     "name": "stdout",
     "output_type": "stream",
     "text": [
      "입력\n",
      "1260\n",
      "출력\n",
      "6\n"
     ]
    },
    {
     "data": {
      "text/plain": [
       "6"
      ]
     },
     "execution_count": 11,
     "metadata": {},
     "output_type": "execute_result"
    }
   ],
   "source": [
    "def greedy(n):\n",
    "    print(f'입력\\n{n}')\n",
    "    cnt = n//500\n",
    "    n = n%500\n",
    "    if n!= 0:\n",
    "        cnt += n//100\n",
    "        n = n%100\n",
    "    if n!= 0:\n",
    "        cnt += n//50\n",
    "        n = n%50\n",
    "    if n!= 0:\n",
    "        cnt += n//10\n",
    "        n = n%10\n",
    "    print(f'출력\\n{cnt}')\n",
    "    return cnt\n",
    "greedy(1260)"
   ]
  },
  {
   "attachments": {},
   "cell_type": "markdown",
   "metadata": {},
   "source": [
    "## TDD\n",
    "- 테스트 주도형 개발방식"
   ]
  },
  {
   "cell_type": "code",
   "execution_count": 12,
   "metadata": {},
   "outputs": [
    {
     "name": "stdout",
     "output_type": "stream",
     "text": [
      "입력\n",
      "1260\n",
      "출력\n",
      "6\n",
      "조건 False: Error 발생, except문\n"
     ]
    }
   ],
   "source": [
    "try: assert greedy(1260) != 6, '조건 False: Error 발생'\n",
    "except: print('조건 False: Error 발생, except문')"
   ]
  },
  {
   "attachments": {},
   "cell_type": "markdown",
   "metadata": {},
   "source": [
    "## 분수의 덧셈\n",
    "https://school.programmers.co.kr/learn/courses/30/lessons/120808?language=python3"
   ]
  },
  {
   "cell_type": "code",
   "execution_count": 13,
   "metadata": {},
   "outputs": [],
   "source": [
    "def solution(numer1, denom1, numer2, denom2):\n",
    "    a = (numer1 * denom2 + denom1*numer2)\n",
    "    b = (denom1*denom2)\n",
    "    for i in range(min(a,b),1,-1):\n",
    "         if a%i+b%i==0:\n",
    "                return [a//i, b//i]\n",
    "    else:\n",
    "        return [a,b]"
   ]
  },
  {
   "attachments": {},
   "cell_type": "markdown",
   "metadata": {},
   "source": [
    "## 배열 두 배 만들기\n",
    "https://school.programmers.co.kr/learn/courses/30/lessons/120809"
   ]
  },
  {
   "cell_type": "code",
   "execution_count": 14,
   "metadata": {},
   "outputs": [],
   "source": [
    "def solution(numbers):\n",
    "    return [i*2 for i in numbers]"
   ]
  },
  {
   "attachments": {},
   "cell_type": "markdown",
   "metadata": {},
   "source": [
    "## 체육복\n",
    "https://school.programmers.co.kr/learn/courses/30/lessons/42862?language=python3"
   ]
  },
  {
   "cell_type": "code",
   "execution_count": 15,
   "metadata": {},
   "outputs": [],
   "source": [
    "# 1차: 조건대로 뺐는데 실패. 63.3\n",
    "def solution(n, lost, reserve):\n",
    "    reserve = sorted(list(set(reserve) - set(lost))) # 차집합 & 교집합 | 합집합\n",
    "    lost2 = lost.copy()\n",
    "    for i in lost2: #i = lost2의 원소\n",
    "        if i in reserve: \n",
    "            lost.pop(lost.index(i)) # index(값) 리스트의 인덱스번호 반환->.pop 인덱스번호로 값 탐색\n",
    "            reserve.pop(reserve.index(i))\n",
    "        elif i-1 in reserve: \n",
    "            lost.pop(lost.index(i))\n",
    "            reserve.pop(reserve.index(i-1))\n",
    "        elif i+1 in reserve: \n",
    "            lost.pop(lost.index(i))\n",
    "            reserve.pop(reserve.index(i+1))\n",
    "    return n-len(lost)\n"
   ]
  },
  {
   "cell_type": "code",
   "execution_count": 16,
   "metadata": {},
   "outputs": [],
   "source": [
    "# 2차: 자신 것이 우선권이기에 반복문을 따로 돌렸는데 실패. 63.3\n",
    "def solution(n, lost, reserve):\n",
    "    reserve = sorted(list(set(reserve) - set(lost)))\n",
    "    lost2 = lost.copy()\n",
    "    for i in lost2:\n",
    "        if i in reserve: \n",
    "            lost.pop(lost.index(i))\n",
    "            reserve.pop(reserve.index(i))\n",
    "            \n",
    "    lost2 = lost.copy()\n",
    "    for i in lost2:\n",
    "        if i-1 in reserve: \n",
    "            lost.pop(lost.index(i))\n",
    "            reserve.pop(reserve.index(i-1))\n",
    "        elif i+1 in reserve: \n",
    "            lost.pop(lost.index(i))\n",
    "            reserve.pop(reserve.index(i+1))\n",
    "    # print(lost)\n",
    "    return n-len(lost)\n",
    "# 확인 결과 solution(5,[1,2,3],[1,2,3])으로 했을 때 함수 안에서 원소가 사라지지 않았다. 차집합으로 빼놓고서 반복문을 돌린 난 바보다."
   ]
  },
  {
   "cell_type": "code",
   "execution_count": 17,
   "metadata": {},
   "outputs": [],
   "source": [
    "# 3차: 정답.\n",
    "def solution(n, lost, reserve):\n",
    "    reserve, lost = sorted(list(set(reserve) - set(lost))), sorted(list(set(lost) - set(reserve)))\n",
    "    lost2 = lost.copy()\n",
    "    for i in lost2:\n",
    "        if i-1 in reserve: \n",
    "            del lost[lost.index(i)]\n",
    "            del reserve[reserve.index(i-1)]\n",
    "        elif i+1 in reserve: \n",
    "            del lost[lost.index(i)]\n",
    "            del reserve[reserve.index(i+1)]\n",
    "    return n-len(lost)"
   ]
  },
  {
   "attachments": {},
   "cell_type": "markdown",
   "metadata": {},
   "source": [
    "## 조이스틱\n",
    "https://school.programmers.co.kr/learn/courses/30/lessons/42860?language=python3"
   ]
  },
  {
   "cell_type": "code",
   "execution_count": 29,
   "metadata": {},
   "outputs": [
    {
     "data": {
      "text/plain": [
       "[0, 3, 0, 5, 0, 0, 0, 0, 0, 0, 0, 3, 6, 8, 5, 0]"
      ]
     },
     "execution_count": 29,
     "metadata": {},
     "output_type": "execute_result"
    }
   ],
   "source": [
    "# 어려워서 보류\n",
    "# 1~20\n",
    "\n",
    "name = 'JEROEN'\n",
    "name = 'JAN'\n",
    "name = 'QWEPKOAAAAAANLQ'\n",
    "name = 'ADAFAAAAAAADGSFA'\n",
    "if len(name)==1:\n",
    "    # return sum([to_num[i] for i in name])\n",
    "    sum([to_num[i] for i in name])\n",
    "to_num = dict(zip(\n",
    "    'ABCDEFGHIJKLMNOPQRSTUVWXYZ',\n",
    "    [0,1,2,3,4,5,6,7,8,9,10,11,12,13,12,11,10,9,8,7,6,5,4,3,2,1]))\n",
    "[to_num[i] for i in name]\n"
   ]
  },
  {
   "attachments": {},
   "cell_type": "markdown",
   "metadata": {},
   "source": [
    "## 큰 수 만들기\n",
    "https://school.programmers.co.kr/learn/courses/30/lessons/42883?language=python3"
   ]
  },
  {
   "cell_type": "code",
   "execution_count": 19,
   "metadata": {},
   "outputs": [],
   "source": [
    "from itertools import permutations\n",
    "def solution(number, k):\n",
    "    tmpL = list(permutations(number,len(number)-k))\n",
    "    for i in range(len(tmpL)):\n",
    "        tmpL[i] = int(''.join(list(tmpL[i])))    \n",
    "    return str(max(tmpL))"
   ]
  },
  {
   "cell_type": "code",
   "execution_count": 20,
   "metadata": {},
   "outputs": [
    {
     "ename": "AttributeError",
     "evalue": "'str' object has no attribute 'pop'",
     "output_type": "error",
     "traceback": [
      "\u001b[1;31m---------------------------------------------------------------------------\u001b[0m",
      "\u001b[1;31mAttributeError\u001b[0m                            Traceback (most recent call last)",
      "Cell \u001b[1;32mIn[20], line 16\u001b[0m\n\u001b[0;32m     14\u001b[0m     k\u001b[39m-\u001b[39m\u001b[39m=\u001b[39m\u001b[39m1\u001b[39m\n\u001b[0;32m     15\u001b[0m \u001b[39melif\u001b[39;00m \u001b[39mmax\u001b[39m(target) \u001b[39m<\u001b[39m name\u001b[39m.\u001b[39mindex(j):\n\u001b[1;32m---> 16\u001b[0m     target\u001b[39m+\u001b[39m\u001b[39m=\u001b[39m[name\u001b[39m.\u001b[39;49mpop(name\u001b[39m.\u001b[39mfind(j))]\n\u001b[0;32m     17\u001b[0m     k\u001b[39m-\u001b[39m\u001b[39m=\u001b[39m\u001b[39m1\u001b[39m\n\u001b[0;32m     18\u001b[0m \u001b[39mif\u001b[39;00m k\u001b[39m==\u001b[39m\u001b[39m0\u001b[39m: \u001b[39mbreak\u001b[39;00m\n",
      "\u001b[1;31mAttributeError\u001b[0m: 'str' object has no attribute 'pop'"
     ]
    }
   ],
   "source": [
    "from itertools import permutations\n",
    "name = '1924'\n",
    "k = 2\n",
    "while True:\n",
    "    tmpL = list(permutations(name, k))\n",
    "    for i in range(len(tmpL)):\n",
    "        tmpL[i] = int(''.join(list(tmpL[i])))\n",
    "    tmpL.sort(reverse=1)\n",
    "    for i in tmpL:\n",
    "        target = []\n",
    "        for j in str(i):\n",
    "            if len(target)==0:\n",
    "                target+=[(name.find(j))]\n",
    "                k-=1\n",
    "            elif max(target) < name.index(j):\n",
    "                target+=[name.pop(name.find(j))]\n",
    "                k-=1\n",
    "            if k==0: break\n",
    "    break\n",
    "\n",
    "\n",
    "target"
   ]
  },
  {
   "cell_type": "code",
   "execution_count": null,
   "metadata": {},
   "outputs": [
    {
     "data": {
      "text/plain": [
       "(1, '924')"
      ]
     },
     "execution_count": 111,
     "metadata": {},
     "output_type": "execute_result"
    }
   ],
   "source": [
    "name = '1924'\n",
    "nameL = name.copy()\n",
    "k = 2\n",
    "while k!=0:\n",
    "    nameL = name.copy()\n",
    "    answer =''\n",
    "    for i in nameL:\n",
    "        if name.index(max(name)) <= len(name)-k:\n",
    "            k-=1\n",
    "            answer.join(max(name))\n",
    "            name = name[name.index(max(name))+1:]\n",
    "        if k==1 and len(name) > k:\n",
    "            max(name)\n",
    "k, name"
   ]
  },
  {
   "attachments": {},
   "cell_type": "markdown",
   "metadata": {},
   "source": [
    "## 구명보트\n",
    "https://school.programmers.co.kr/learn/courses/30/lessons/42885?language=python3"
   ]
  }
 ],
 "metadata": {
  "kernelspec": {
   "display_name": "study",
   "language": "python",
   "name": "python3"
  },
  "language_info": {
   "codemirror_mode": {
    "name": "ipython",
    "version": 3
   },
   "file_extension": ".py",
   "mimetype": "text/x-python",
   "name": "python",
   "nbconvert_exporter": "python",
   "pygments_lexer": "ipython3",
   "version": "3.10.11"
  },
  "orig_nbformat": 4
 },
 "nbformat": 4,
 "nbformat_minor": 2
}
