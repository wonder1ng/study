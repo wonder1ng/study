{
 "cells": [
  {
   "cell_type": "code",
   "execution_count": 74,
   "metadata": {},
   "outputs": [
    {
     "data": {
      "text/plain": [
       "5"
      ]
     },
     "execution_count": 74,
     "metadata": {},
     "output_type": "execute_result"
    }
   ],
   "source": [
    "a= 2\n",
    "\n",
    "0 if a==0 else (3 if a==3 else 2 if a==2 else 1) if a==1 else 5"
   ]
  },
  {
   "cell_type": "code",
   "execution_count": 11,
   "metadata": {},
   "outputs": [
    {
     "name": "stdout",
     "output_type": "stream",
     "text": [
      "입력\n",
      "1260\n",
      "출력\n",
      "6\n"
     ]
    },
    {
     "data": {
      "text/plain": [
       "6"
      ]
     },
     "execution_count": 11,
     "metadata": {},
     "output_type": "execute_result"
    }
   ],
   "source": [
    "def greedy(n):\n",
    "    print(f'입력\\n{n}')\n",
    "    cnt = n//500\n",
    "    n = n%500\n",
    "    if n!= 0:\n",
    "        cnt += n//100\n",
    "        n = n%100\n",
    "    if n!= 0:\n",
    "        cnt += n//50\n",
    "        n = n%50\n",
    "    if n!= 0:\n",
    "        cnt += n//10\n",
    "        n = n%10\n",
    "    print(f'출력\\n{cnt}')\n",
    "    return cnt\n",
    "greedy(1260)"
   ]
  },
  {
   "attachments": {},
   "cell_type": "markdown",
   "metadata": {},
   "source": [
    "## TDD\n",
    "- 테스트 주도형 개발방식"
   ]
  },
  {
   "cell_type": "code",
   "execution_count": 12,
   "metadata": {},
   "outputs": [
    {
     "name": "stdout",
     "output_type": "stream",
     "text": [
      "입력\n",
      "1260\n",
      "출력\n",
      "6\n",
      "조건 False: Error 발생, except문\n"
     ]
    }
   ],
   "source": [
    "try: assert greedy(1260) != 6, '조건 False: Error 발생'\n",
    "except: print('조건 False: Error 발생, except문')"
   ]
  },
  {
   "cell_type": "code",
   "execution_count": null,
   "metadata": {},
   "outputs": [],
   "source": [
    "# solution = lambda t, l = []: max(l) if not t else solution(t[1:], [max(x,y)+z for x,y,z in zip([0]+l, l+[0], t[0])])\n",
    "\n",
    "# def solution(triangle):\n",
    "#     if len(triangle) == 1:\n",
    "#         answer = triangle[0][0]\n",
    "#     else:\n",
    "#         data = []\n",
    "#         data += triangle\n",
    "#         for i in range(1, len(triangle)):\n",
    "#             for j in range(len(triangle[i])):\n",
    "#                 if j == 0 : \n",
    "#                     data[i][j] = data[i-1][j] + triangle[i][j]\n",
    "#                 elif j == i: \n",
    "#                     data[i][j] = data[i-1][j-1] + triangle[i][j]\n",
    "#                 elif data[i-1][j-1] >= data[i-1][j]:\n",
    "#                     data[i][j] = data[i-1][j-1] + triangle[i][j]\n",
    "#                 else:\n",
    "#                     data[i][j] = data[i-1][j] + triangle[i][j]\n",
    "#         else: answer = max(data[-1])\n",
    "#     return answer\n",
    "\n",
    "def solution(triangle):\n",
    "    tmp = [triangle[0][0]]\n",
    "    for i in range(len(triangle)):\n",
    "        tmp = [0]+tmp+[0]\n",
    "        tmp2 = []\n",
    "        for j in range(len(triangle[i])):\n",
    "            tmp2 += [max(triangle[i][j]+tmp[j], triangle[i][j]+tmp[j+1])]\n",
    "        tmp = tmp2.copy()\n",
    "    return max(tmp)\n",
    "\n",
    "def solution(triangle):\n",
    "    tmp=[0,triangle[0][0],0]\n",
    "    for i in range(1,len(triangle)):\n",
    "        tmp = [0]+[max(triangle[i][j]+tmp[j], triangle[i][j]+tmp[j+1]) for j in range(len(triangle[i]))]+[0]\n",
    "    return max(tmp)"
   ]
  },
  {
   "cell_type": "code",
   "execution_count": 29,
   "metadata": {},
   "outputs": [
    {
     "data": {
      "text/plain": [
       "{1: [(1, 1), (3, 2)],\n",
       " 2: [(3, 1, 2, 5, 2), (2, 2, 4, 2, 3)],\n",
       " 3: [(3, 4, 3, 1, 2, 6), (6, 3, 2, 3, 3, 3)],\n",
       " 4: [(4, 2), (3, 4)],\n",
       " 5: [(5,), (2,)],\n",
       " 6: [(3, 6), (6, 3)]}"
      ]
     },
     "execution_count": 29,
     "metadata": {},
     "output_type": "execute_result"
    }
   ],
   "source": [
    "n = 6 \n",
    "edge = [[3, 6], [4, 3], [3, 2], [1, 3], [1, 2], [2, 4], [5, 2]]\n",
    "edge = [[3, 6], [4, 3], [3, 2], [1, 3], [1, 2], [2, 4], [5, 2], [2,3], [6,3]]\n",
    "node = {}\n",
    "edge_cost = []\n",
    "\n",
    "for start in range(1,n+1):\n",
    "    node[start] = list(zip(*[i for i in edge if start in i]))\n",
    "node\n",
    "# sorted(edge, key=lambda x: sorted(x))\n"
   ]
  },
  {
   "cell_type": "code",
   "execution_count": 18,
   "metadata": {},
   "outputs": [],
   "source": [
    "def solution(n, edge):\n",
    "    edge_cost = []\n",
    "    \n",
    "    for start in range(2,n+1):\n",
    "        pass\n",
    "    return answer\n",
    "solution(6, [[3, 6], [4, 3], [3, 2], [1, 3], [1, 2], [2, 4], [5, 2]])"
   ]
  },
  {
   "attachments": {},
   "cell_type": "markdown",
   "metadata": {},
   "source": [
    "## 체육복\n",
    "https://school.programmers.co.kr/learn/courses/30/lessons/42862?language=python3"
   ]
  },
  {
   "cell_type": "code",
   "execution_count": 15,
   "metadata": {},
   "outputs": [],
   "source": [
    "# 1차: 조건대로 뺐는데 실패. 63.3\n",
    "def solution(n, lost, reserve):\n",
    "    reserve = sorted(list(set(reserve) - set(lost))) # 차집합 & 교집합 | 합집합\n",
    "    lost2 = lost.copy()\n",
    "    for i in lost2: #i = lost2의 원소\n",
    "        if i in reserve: \n",
    "            lost.pop(lost.index(i)) # index(값) 리스트의 인덱스번호 반환->.pop 인덱스번호로 값 탐색\n",
    "            reserve.pop(reserve.index(i))\n",
    "        elif i-1 in reserve: \n",
    "            lost.pop(lost.index(i))\n",
    "            reserve.pop(reserve.index(i-1))\n",
    "        elif i+1 in reserve: \n",
    "            lost.pop(lost.index(i))\n",
    "            reserve.pop(reserve.index(i+1))\n",
    "    return n-len(lost)\n"
   ]
  },
  {
   "cell_type": "code",
   "execution_count": 16,
   "metadata": {},
   "outputs": [],
   "source": [
    "# 2차: 자신 것이 우선권이기에 반복문을 따로 돌렸는데 실패. 63.3\n",
    "def solution(n, lost, reserve):\n",
    "    reserve = sorted(list(set(reserve) - set(lost)))\n",
    "    lost2 = lost.copy()\n",
    "    for i in lost2:\n",
    "        if i in reserve: \n",
    "            lost.pop(lost.index(i))\n",
    "            reserve.pop(reserve.index(i))\n",
    "            \n",
    "    lost2 = lost.copy()\n",
    "    for i in lost2:\n",
    "        if i-1 in reserve: \n",
    "            lost.pop(lost.index(i))\n",
    "            reserve.pop(reserve.index(i-1))\n",
    "        elif i+1 in reserve: \n",
    "            lost.pop(lost.index(i))\n",
    "            reserve.pop(reserve.index(i+1))\n",
    "    # print(lost)\n",
    "    return n-len(lost)\n",
    "# 확인 결과 solution(5,[1,2,3],[1,2,3])으로 했을 때 함수 안에서 원소가 사라지지 않았다. 차집합으로 빼놓고서 반복문을 돌린 난 바보다."
   ]
  },
  {
   "cell_type": "code",
   "execution_count": 17,
   "metadata": {},
   "outputs": [],
   "source": [
    "# 3차: 정답.\n",
    "def solution(n, lost, reserve):\n",
    "    reserve, lost = sorted(list(set(reserve) - set(lost))), sorted(list(set(lost) - set(reserve)))\n",
    "    lost2 = lost.copy()\n",
    "    for i in lost2:\n",
    "        if i-1 in reserve: \n",
    "            del lost[lost.index(i)]\n",
    "            del reserve[reserve.index(i-1)]\n",
    "        elif i+1 in reserve: \n",
    "            del lost[lost.index(i)]\n",
    "            del reserve[reserve.index(i+1)]\n",
    "    return n-len(lost)"
   ]
  },
  {
   "attachments": {},
   "cell_type": "markdown",
   "metadata": {},
   "source": [
    "## 조이스틱\n",
    "https://school.programmers.co.kr/learn/courses/30/lessons/42860?language=python3"
   ]
  },
  {
   "cell_type": "code",
   "execution_count": 42,
   "metadata": {},
   "outputs": [
    {
     "data": {
      "text/plain": [
       "11"
      ]
     },
     "execution_count": 42,
     "metadata": {},
     "output_type": "execute_result"
    }
   ],
   "source": [
    "\n",
    "name = 'JEROEN'\n",
    "# name = 'JAN'\n",
    "# name = 'QWEPKOAAAAAANLQ'\n",
    "name = 'ADAFAAAAAAADGSFA'\n",
    "# name = 'ADAFAAAAAAA'\n",
    "maxA = max([i if name.find('A'*i)!=-1 else 0 for i in range(name.count('A')+1)])\n",
    "# name.replace('A'*maxA,''), len(name.replace('A'*maxA,'')), maxA\n",
    "a = name.split('A'*maxA)\n",
    "a\n",
    "a, b = len(a[0])-1, len(a[1])\n",
    "cnt = b if a==0 else a if b==0 else len(name)-1\n",
    "cnt = min(a+b*2 if a*2+b > a+b*2 else a*2+b, cnt)\n",
    "cnt\n",
    "# a+b*2 if a*2+b > a+b*2 else a*2+b"
   ]
  },
  {
   "cell_type": "code",
   "execution_count": 33,
   "metadata": {},
   "outputs": [
    {
     "data": {
      "text/plain": [
       "11"
      ]
     },
     "execution_count": 33,
     "metadata": {},
     "output_type": "execute_result"
    }
   ],
   "source": [
    "# 1차: 실패. 81.5\n",
    "\n",
    "name = 'JEROEN'\n",
    "name = 'JAN'\n",
    "name = 'QWEPKOAAAAAANLQ'\n",
    "name = 'ADAFAAAAAAADGSFA'\n",
    "def solution(name):\n",
    "    if name.count('A')==0: cnt=len(name)-1\n",
    "    elif name.count('A')==len(name): cnt=0\n",
    "    else:\n",
    "        maxA = max([i if name.find('A'*i)!=-1 else 0 for i in range(name.count('A')+1)])\n",
    "        a = name.split('A'*maxA)\n",
    "        a, b = len(a[0])-1, len(a[1])\n",
    "        cnt = a+b*2 if a*2+b > a+b*2 else a*2+b\n",
    "    to_num = dict(zip('ABCDEFGHIJKLMNOPQRSTUVWXYZ',\n",
    "                      [0,1,2,3,4,5,6,7,8,9,10,11,12,13,12,11,10,9,8,7,6,5,4,3,2,1]))\n",
    "\n",
    "    return sum([to_num[i] for i in name])+cnt"
   ]
  },
  {
   "cell_type": "code",
   "execution_count": 45,
   "metadata": {},
   "outputs": [
    {
     "data": {
      "text/plain": [
       "56"
      ]
     },
     "execution_count": 45,
     "metadata": {},
     "output_type": "execute_result"
    }
   ],
   "source": [
    "# 2차: 실패. 85.2\n",
    "def solution(name):\n",
    "    if name.count('A')==0: cnt=len(name)-1\n",
    "    elif name.count('A')==len(name): cnt=0\n",
    "    else:\n",
    "        maxA = max([i if name.find('A'*i)!=-1 else 0 for i in range(name.count('A')+1)])\n",
    "        a = name.split('A'*maxA)\n",
    "        a, b = len(a[0])-1, len(a[1])\n",
    "        cnt = b if a==0 else a if b==0 else len(name)-1\n",
    "        cnt = min(a+b*2 if a*2+b > a+b*2 else a*2+b, cnt)\n",
    "    to_num = dict(zip('ABCDEFGHIJKLMNOPQRSTUVWXYZ',\n",
    "                      [0,1,2,3,4,5,6,7,8,9,10,11,12,13,12,11,10,9,8,7,6,5,4,3,2,1]))\n",
    "\n",
    "    return sum([to_num[i] for i in name])+cnt\n",
    "solution(name)"
   ]
  },
  {
   "cell_type": "code",
   "execution_count": 58,
   "metadata": {},
   "outputs": [],
   "source": [
    "name = 'AAAEGDBAAA'\n",
    "name = 'AAAEGAAADASDASDSADBAAA'\n",
    "maxA = max([i if name.find('A'*i)!=-1 else 0 for i in range(name.count('A')+1)])\n",
    "a = name.split('A'*maxA)\n",
    "if a[0] and a[-1]=='': cnt=len(name)-maxA-1; #break\n",
    "\n",
    "# a, maxA\n",
    "# a, b = len(a[0])-1, len(a[1])\n",
    "# cnt = b if a==0 else a if b==0 else len(name)-1\n",
    "# cnt = min(a+b*2 if a*2+b > a+b*2 else a*2+b, cnt)"
   ]
  },
  {
   "cell_type": "code",
   "execution_count": 52,
   "metadata": {},
   "outputs": [
    {
     "name": "stdout",
     "output_type": "stream",
     "text": [
      "9\n"
     ]
    },
    {
     "data": {
      "text/plain": [
       "9"
      ]
     },
     "execution_count": 52,
     "metadata": {},
     "output_type": "execute_result"
    }
   ],
   "source": [
    "# 3차\n",
    "def solution(name):\n",
    "    if name.count('A')==0: cnt=len(name)-1\n",
    "    elif name.count('A')==len(name): cnt=0\n",
    "    else:\n",
    "        maxA = max([i if name.find('A'*i)!=-1 else 0 for i in range(name.count('A')+1)])\n",
    "        a = name.split('A'*maxA)\n",
    "        a, b = len(a[0])-1, len(a[1])\n",
    "        cnt = b if a==0 else a if b==0 else len(name)-1\n",
    "        cnt = min(a+b*2 if a*2+b > a+b*2 else a*2+b, cnt)\n",
    "        if name.find('A'*maxA)==0: cnt = b\n",
    "    to_num = dict(zip('ABCDEFGHIJKLMNOPQRSTUVWXYZ',\n",
    "                      [0,1,2,3,4,5,6,7,8,9,10,11,12,13,12,11,10,9,8,7,6,5,4,3,2,1]))\n",
    "\n",
    "    # return sum([to_num[i] for i in name])+cnt\n",
    "    return cnt\n",
    "name = 'AAAEGDBAAA'\n",
    "name = 'AAAEGAAADBAAA'\n",
    "solution(name)"
   ]
  },
  {
   "cell_type": "code",
   "execution_count": 66,
   "metadata": {},
   "outputs": [
    {
     "data": {
      "text/plain": [
       "17"
      ]
     },
     "execution_count": 66,
     "metadata": {},
     "output_type": "execute_result"
    }
   ],
   "source": [
    "def solution(name):\n",
    "    answer = 0\n",
    "    min_move = len(name) - 1\n",
    "    next = 0\n",
    "    \n",
    "    while name[min_move] == 'A' and min_move > 0:\n",
    "        min_move -= 1\n",
    "    \n",
    "    if (min_move < 0):\n",
    "        return answer\n",
    "        \n",
    "    for i, char in enumerate(name):\n",
    "        answer += min(ord(char) - ord('A'), ord('Z') - ord(char) + 1)\n",
    "        \n",
    "        next = i + 1\n",
    "        while next < len(name) and name[next] == 'A':\n",
    "            next += 1\n",
    "        \n",
    "        min_move = min(min_move, i + (i + len(name)) - next)\n",
    "    answer += min_move\n",
    "    return min_move\n",
    "name = 'ASDSDSADCASDQAAAAE'\n",
    "solution(name)"
   ]
  },
  {
   "attachments": {},
   "cell_type": "markdown",
   "metadata": {},
   "source": [
    "## 큰 수 만들기\n",
    "https://school.programmers.co.kr/learn/courses/30/lessons/42883?language=python3"
   ]
  },
  {
   "cell_type": "code",
   "execution_count": 19,
   "metadata": {},
   "outputs": [],
   "source": [
    "from itertools import permutations\n",
    "def solution(number, k):\n",
    "    tmpL = list(permutations(number,len(number)-k))\n",
    "    for i in range(len(tmpL)):\n",
    "        tmpL[i] = int(''.join(list(tmpL[i])))    \n",
    "    return str(max(tmpL))"
   ]
  },
  {
   "cell_type": "code",
   "execution_count": 4,
   "metadata": {},
   "outputs": [],
   "source": [
    "# from itertools import permutations\n",
    "# name = '1924'\n",
    "# k = 2\n",
    "# while True:\n",
    "#     tmpL = list(permutations(name, k))\n",
    "#     for i in range(len(tmpL)):\n",
    "#         tmpL[i] = int(''.join(list(tmpL[i])))\n",
    "#     tmpL.sort(reverse=1)\n",
    "#     for i in tmpL:\n",
    "#         target = []\n",
    "#         for j in str(i):\n",
    "#             if len(target)==0:\n",
    "#                 target+=[(name.find(j))]\n",
    "#                 k-=1\n",
    "#             elif max(target) < name.index(j):\n",
    "#                 target+=[name.pop(name.find(j))]\n",
    "#                 k-=1\n",
    "#             if k==0: break\n",
    "#     break\n",
    "\n",
    "\n",
    "# target"
   ]
  },
  {
   "cell_type": "code",
   "execution_count": null,
   "metadata": {},
   "outputs": [
    {
     "data": {
      "text/plain": [
       "(1, '924')"
      ]
     },
     "execution_count": 111,
     "metadata": {},
     "output_type": "execute_result"
    }
   ],
   "source": [
    "name = '1924'\n",
    "nameL = name.copy()\n",
    "k = 2\n",
    "while k!=0:\n",
    "    nameL = name.copy()\n",
    "    answer =''\n",
    "    for i in nameL:\n",
    "        if name.index(max(name)) <= len(name)-k:\n",
    "            k-=1\n",
    "            answer.join(max(name))\n",
    "            name = name[name.index(max(name))+1:]\n",
    "        if k==1 and len(name) > k:\n",
    "            max(name)\n",
    "k, name"
   ]
  },
  {
   "attachments": {},
   "cell_type": "markdown",
   "metadata": {},
   "source": [
    "## 구명보트\n",
    "https://school.programmers.co.kr/learn/courses/30/lessons/42885?language=python3"
   ]
  },
  {
   "attachments": {},
   "cell_type": "markdown",
   "metadata": {},
   "source": [
    "## 최빈값 구하기\n",
    "https://school.programmers.co.kr/learn/courses/30/lessons/120812?language=python3"
   ]
  },
  {
   "cell_type": "code",
   "execution_count": 15,
   "metadata": {},
   "outputs": [],
   "source": [
    "def solution(array):\n",
    "    tmp = [array.count(i)for i in sorted(list(set(array)))]\n",
    "    return sorted(list(set(array)))[tmp.index(max(tmp))] if tmp.count(max(tmp))==1 else -1    "
   ]
  },
  {
   "attachments": {},
   "cell_type": "markdown",
   "metadata": {},
   "source": [
    "## K번째 수\n",
    "https://school.programmers.co.kr/learn/courses/30/lessons/42748?language=python3"
   ]
  },
  {
   "cell_type": "code",
   "execution_count": null,
   "metadata": {},
   "outputs": [],
   "source": [
    "def solution(array, commands):    \n",
    "    return [sorted(array[i[0]-1:i[1]])[i[2]-1] for i in commands]"
   ]
  },
  {
   "cell_type": "code",
   "execution_count": 2,
   "metadata": {},
   "outputs": [
    {
     "data": {
      "text/plain": [
       "1"
      ]
     },
     "execution_count": 2,
     "metadata": {},
     "output_type": "execute_result"
    }
   ],
   "source": [
    "def solution(numbers):\n",
    "    return answer\n",
    "round(1.344)"
   ]
  },
  {
   "attachments": {},
   "cell_type": "markdown",
   "metadata": {},
   "source": [
    "#### Day 1\n",
    "사칙연산<br>\n",
    "두 수의 합<br>\n",
    "두 수의 차<br>\n",
    "두 수의 곱<br>\n",
    "몫 구하기<br>\n",
    "#### Day 2\n",
    "사칙연산, 조건문, 배열<br>\n",
    "두 수의 나눗셈<br>\n",
    "숫자 비교하기<br>\n",
    "분수의 덧셈<br>\n",
    "배열 두 배 만들기<br>\n",
    "#### Day 3\n",
    "사칙연산, 배열, 수학<br>\n",
    "나머지 구하기<br>\n",
    "중앙값 구하기<br>\n",
    "최빈값 구하기<br>\n",
    "짝수는 싫어요<br>\n",
    "#### Day 4\n",
    "수학, 배열<br>\n",
    "피자 나눠 먹기 (1)<br>\n",
    "피자 나눠 먹기 (2)<br>\n",
    "피자 나눠 먹기 (3)<br>\n",
    "배열의 평균값<br>\n",
    "#### Day 5\n",
    "수학, 배열<br>\n",
    "옷가게 할인 받기<br>\n",
    "아이스 아메리카노<br>\n",
    "나이 출력<br>\n",
    "배열 뒤집기<br>\n",
    "#### Day 6\n",
    "문자열, 반복문, 출력, 배열, 조건문<br>\n",
    "문자열 뒤집기<br>\n",
    "직각삼각형 출력하기<br>\n",
    "짝수 홀수 개수<br>\n",
    "문자 반복 출력하기<br>"
   ]
  },
  {
   "cell_type": "code",
   "execution_count": null,
   "metadata": {},
   "outputs": [],
   "source": [
    "# Day1\n",
    "def solution(num1, num2):\n",
    "    return num1+num2\n",
    "def solution(num1, num2):\n",
    "    return num1-num2\n",
    "def solution(num1, num2):\n",
    "    return num1*num2\n",
    "def solution(num1, num2):\n",
    "    return num1//num2\n",
    "\n",
    "# Day2\n",
    "def solution(num1, num2):\n",
    "    return int(num1/num2*1000)\n",
    "def solution(num1, num2):\n",
    "    return 1 if num1==num2 else -1\n",
    "def solution(numer1, denom1, numer2, denom2):\n",
    "    a = (numer1 * denom2 + denom1*numer2)\n",
    "    b = (denom1*denom2)\n",
    "    for i in range(min(a,b),1,-1):\n",
    "         if a%i+b%i==0:\n",
    "                return [a//i, b//i]\n",
    "    else:\n",
    "        return [a,b]\n",
    "def solution(numbers):\n",
    "    return [i*2 for i in numbers]\n",
    "\n",
    "# Day3\n",
    "def solution(num1, num2):\n",
    "    return num1%num2\n",
    "def solution(array):\n",
    "    return int(sum(sorted(array)[len(array)/2-1,len(array)])/2) if len(array)%2==0 else sorted(array)[int(len(array)/2)]\n",
    "def solution(array):\n",
    "    tmp = [array.count(i)for i in sorted(list(set(array)))]\n",
    "    return sorted(list(set(array)))[tmp.index(max(tmp))] if tmp.count(max(tmp))==1 else -1    \n",
    "def solution(n):\n",
    "    return [i for i in range(1,n+1,2)]\n",
    "\n",
    "# Day4\n",
    "def solution(n):\n",
    "    return n//7 if n%7==0 else n//7+1\n",
    "def solution(n):\n",
    "    if n <=6:\n",
    "        for i in range(1,n*6+1):\n",
    "            if 6%(n*i)==0: return i\n",
    "    for i in range(1,n*6+1):\n",
    "        if (n*i)%6==0: return (n*i)//6\n",
    "    else: return i\n",
    "def solution(slice, n):\n",
    "    return n//slice if n%slice==0 else n//slice+1\n",
    "def solution(numbers):\n",
    "    return int(sum(numbers)/len(numbers)) + (0.0 if sum(numbers)%len(numbers)==0 else 0.5)\n",
    "\n",
    "# Day5\n",
    "def solution(price):\n",
    "    return int(price*0.8) if price>=500000 else (int(price*0.9) if price>=300000 else int(price*0.95) if price>=100000 else price)\n",
    "def solution(money):\n",
    "    return [int(money//5500), int(money%5500)]\n",
    "def solution(age):\n",
    "    return 2023-age\n",
    "def solution(num_list):\n",
    "    return list(reversed(num_list))\n",
    "\n",
    "# Day6\n",
    "def solution(my_string):\n",
    "    return ''.join(reversed(my_string))\n",
    "[print('*'*(_+1)) for _ in range(int(input()))]\n",
    "def solution(num_list):\n",
    "    return [sum([1 if i%2==0 else 0 for i in num_list]), sum([0 if i%2==0 else 1 for i in num_list])]\n",
    "def solution(my_string, n):\n",
    "    return ''.join([i*n for i in my_string])\n",
    "\n",
    "\n",
    "def solution(num_list):\n",
    "    return [sum([1 if i%2==0 else 0 for i in num_list]), sum([0 if i%2==0 else 1 for i in num_list])]\n",
    "def solution(n, k):\n",
    "    return (0 if n//10 > k else k-n//10)*2000+n*12000\n",
    "def solution(emergency):\n",
    "    return [sorted(emergency, reverse=True).index(i)+1 for i in emergency]\n",
    "def solution(n):\n",
    "    return len([i for i in range(1,n+1) if n%i==0])"
   ]
  },
  {
   "cell_type": "code",
   "execution_count": null,
   "metadata": {},
   "outputs": [],
   "source": [
    "def solution(n):\n",
    "    return len([i for i in range(1,int(n/2)) if n%i==0])*2 + 1 if n==4 else 0"
   ]
  },
  {
   "cell_type": "code",
   "execution_count": 13,
   "metadata": {},
   "outputs": [
    {
     "data": {
      "text/plain": [
       "[1]"
      ]
     },
     "execution_count": 13,
     "metadata": {},
     "output_type": "execute_result"
    }
   ],
   "source": [
    "def solution(numbers, num1, num2):\n",
    "    return numbers[num1:num1+num2]\n",
    "\n",
    "solution([1, 3, 5],0,1)"
   ]
  }
 ],
 "metadata": {
  "kernelspec": {
   "display_name": "study",
   "language": "python",
   "name": "python3"
  },
  "language_info": {
   "codemirror_mode": {
    "name": "ipython",
    "version": 3
   },
   "file_extension": ".py",
   "mimetype": "text/x-python",
   "name": "python",
   "nbconvert_exporter": "python",
   "pygments_lexer": "ipython3",
   "version": "3.9.16"
  },
  "orig_nbformat": 4
 },
 "nbformat": 4,
 "nbformat_minor": 2
}
