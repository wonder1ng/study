{
 "cells": [
  {
   "attachments": {},
   "cell_type": "markdown",
   "metadata": {},
   "source": [
    "## 삽입 정렬"
   ]
  },
  {
   "cell_type": "code",
   "execution_count": 5,
   "metadata": {},
   "outputs": [
    {
     "name": "stdout",
     "output_type": "stream",
     "text": [
      "nums: [826, 928, 997, 685, 782, 914, 176, 20, 741, 574]\n",
      "nums: [826, 928, 997, 685, 782, 914, 176, 20, 741, 574]\n",
      "nums: [685, 826, 928, 997, 782, 914, 176, 20, 741, 574]\n",
      "nums: [685, 782, 826, 928, 997, 914, 176, 20, 741, 574]\n",
      "nums: [685, 782, 826, 914, 928, 997, 176, 20, 741, 574]\n",
      "nums: [176, 685, 782, 826, 914, 928, 997, 20, 741, 574]\n",
      "nums: [20, 176, 685, 782, 826, 914, 928, 997, 741, 574]\n",
      "nums: [20, 176, 685, 741, 782, 826, 914, 928, 997, 574]\n",
      "nums: [20, 176, 574, 685, 741, 782, 826, 914, 928, 997]\n",
      "nums: [20, 176, 574, 685, 741, 782, 826, 914, 928, 997]\n",
      "nums: [20, 176, 574, 685, 741, 782, 826, 914, 928, 997]\n",
      "nums: [20, 176, 574, 685, 741, 782, 826, 914, 928, 997]\n",
      "nums: [20, 176, 574, 685, 741, 782, 826, 914, 928, 997]\n",
      "nums: [20, 176, 574, 685, 741, 782, 826, 914, 928, 997]\n",
      "nums: [20, 176, 574, 685, 741, 782, 826, 914, 928, 997]\n",
      "nums: [20, 176, 574, 685, 741, 782, 826, 914, 928, 997]\n",
      "nums: [20, 176, 574, 685, 741, 782, 826, 914, 928, 997]\n",
      "nums: [20, 176, 574, 685, 741, 782, 826, 914, 928, 997]\n"
     ]
    }
   ],
   "source": [
    "import random\n",
    "nums = random.sample(range(1,1001), 10)\n",
    "for i in range(1, len(nums)):\n",
    "    j = i-1\n",
    "    temp = nums[i]\t\t\t\t# 삽입할 임시값\n",
    "    while nums[j] > temp and j >= 0:\n",
    "        nums[j+1] = nums[j]\t\t# 큰 값을 현재 값에 할당.\n",
    "        j -= 1\t\t\t\t\t# 더 작은 값과 비교\n",
    "    nums[j+1] = temp\t\t\t# 뒤에 있던 임시값을 앞으로 이동\n",
    "    print(f'nums: {nums}')\n",
    "\n",
    "# 뒤에서부터 작은 수 앞으로 옮기기\n",
    "for i in range(-2, -len(nums)-1, -1):\n",
    "    j = i+1\n",
    "    temp = nums[i]\n",
    "    while nums[j] < temp and j <= -1:\n",
    "        nums[j-1] = nums[j]\n",
    "        j += 1\n",
    "    nums[j-1] = temp\n",
    "    print(f'nums: {nums}')"
   ]
  },
  {
   "attachments": {},
   "cell_type": "markdown",
   "metadata": {},
   "source": [
    "## 선택 정렬"
   ]
  },
  {
   "cell_type": "code",
   "execution_count": 6,
   "metadata": {},
   "outputs": [
    {
     "name": "stdout",
     "output_type": "stream",
     "text": [
      "[7, 12, 14, 20, 30, 48, 50, 71, 89, 91]\n"
     ]
    }
   ],
   "source": [
    "import random\n",
    "nums = random.sample(range(1,101), 10)\n",
    "\n",
    "for i in range(len(nums)-1):\n",
    "    changeIdx = i\n",
    "    for j in range(i+1, len(nums)):\n",
    "        if nums[changeIdx] > nums[j]: changeIdx = j\n",
    "    nums[i], nums[changeIdx] = nums[changeIdx], nums[i]\n",
    "print(nums)"
   ]
  },
  {
   "attachments": {},
   "cell_type": "markdown",
   "metadata": {},
   "source": [
    "## 버블 정렬"
   ]
  },
  {
   "cell_type": "code",
   "execution_count": 4,
   "metadata": {},
   "outputs": [
    {
     "name": "stdout",
     "output_type": "stream",
     "text": [
      "[0, 2, 7, 10, 21]\n",
      "[170, 178, 184, 181, 179, 171, 171, 174, 171, 173, 173, 178, 178, 183, 180, 171, 177, 185, 181, 178]\n",
      "[170, 171, 171, 171, 171, 173, 173, 174, 177, 178, 178, 178, 178, 179, 180, 181, 181, 183, 184, 185]\n",
      "[0, 2, 7, 10, 21]\n"
     ]
    }
   ],
   "source": [
    "a = [10, 2, 7, 21, 0]\n",
    "for i in range(len(a)-1):\n",
    "    for j in range(len(a)-i-1):\n",
    "        if a[j] > a[j+1]:\n",
    "            a[j], a[j+1] = a[j+1], a[j]\n",
    "print(a)\n",
    "\n",
    "# 함수와 깊은 복사\n",
    "def bub(a, deepcopy = True):\n",
    "    import copy\n",
    "    if deepcopy: temp = copy.deepcopy(a)\n",
    "    else: temp = a\n",
    "    for i in range(len(a)-1):\n",
    "        for j in range(len(a)-i-1):\n",
    "            if a[j] > a[j+1]:\n",
    "                a[j], a[j+1] = a[j+1], a[j]\n",
    "    return temp\n",
    "\n",
    "import random\n",
    "b = []\n",
    "for i in range(20):\n",
    "    b += [random.randint(170,185)]\n",
    "print(bub(b))\n",
    "print(b)\n",
    "\n",
    "# 뒤에서 작은 수 앞으로 옮기기\n",
    "a = [10, 2, 7, 21, 0]\n",
    "for i in range(len(a)-1):\n",
    "    for j in range(-1, -len(a)+i,-1):\n",
    "        if a[j] < a[j-1]:\n",
    "            a[j], a[j-1] = a[j-1], a[j]\n",
    "print(a)"
   ]
  }
 ],
 "metadata": {
  "kernelspec": {
   "display_name": "base",
   "language": "python",
   "name": "python3"
  },
  "language_info": {
   "codemirror_mode": {
    "name": "ipython",
    "version": 3
   },
   "file_extension": ".py",
   "mimetype": "text/x-python",
   "name": "python",
   "nbconvert_exporter": "python",
   "pygments_lexer": "ipython3",
   "version": "3.10.11"
  },
  "orig_nbformat": 4
 },
 "nbformat": 4,
 "nbformat_minor": 2
}
