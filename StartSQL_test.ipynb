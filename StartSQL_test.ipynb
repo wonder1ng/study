{
 "cells": [
  {
   "cell_type": "code",
   "execution_count": 1,
   "metadata": {},
   "outputs": [
    {
     "name": "stdout",
     "output_type": "stream",
     "text": [
      "first\n",
      "    0     1                  2              3     4\n",
      "0  1  김아무개  mymail@github.com  010-1234-1234  사회과학 \n",
      "\n",
      "second\n",
      "    0     1                    2              3     4\n",
      "0  1  김아무개  yourmail@github.com  010-1234-1234  사회과학 \n",
      "\n",
      "third\n",
      " Empty DataFrame\n",
      "Columns: []\n",
      "Index: [] \n",
      "\n",
      "third\n",
      "        0            1    2 3     4 5\n",
      "0     id      int(11)   NO    None  \n",
      "1   name  varchar(16)  YES    None  \n",
      "2  email  varchar(32)  YES    None  \n",
      "3  phone  varchar(16)  YES    None  \n",
      "4  major  varchar(16)  YES    None   \n",
      "\n"
     ]
    }
   ],
   "source": [
    "import pymysql\n",
    "import pandas as pd\n",
    "\n",
    "with open('./db_config.txt') as f:\n",
    "    res = dict(map(lambda x: x.replace('\\n','').split('='), f.readlines()))\n",
    "    for i, v in res.items():\n",
    "        if v.isdigit(): res[i] = int(v)\n",
    "con = pymysql.connect(**res)\n",
    "cur = con.cursor()\n",
    "# cur.execute('create table student(id int not null, name varchar(16), email varchar(32), phone varchar(16), major varchar(16))')\n",
    "table = 'student'\n",
    "cols = 'id int not null, name varchar(16), email varchar(32), phone varchar(16), major varchar(16)'\n",
    "cur.execute(f'create table {table}({cols})')\n",
    "\n",
    "cur.execute('insert into student values(1, \"김아무개\", \"mymail@github.com\", \"010-1234-1234\", \"사회과학\")')\n",
    "cur.execute('select * from student')\n",
    "print('first\\n', pd.DataFrame(cur.fetchall()), '\\n')\n",
    "cur.execute('update student set email=\"yourmail@github.com\" where id=1')\n",
    "cur.execute('select * from student')\n",
    "print('second\\n', pd.DataFrame(cur.fetchall()), '\\n')\n",
    "cur.execute('delete from student where id=1')\n",
    "cur.execute('select * from student')\n",
    "print('third\\n', pd.DataFrame(cur.fetchall()), '\\n')\n",
    "cur.execute('desc student')\n",
    "print('third\\n', pd.DataFrame(cur.fetchall()), '\\n')\n",
    "cur.execute('drop table student')\n",
    "con.close()"
   ]
  },
  {
   "cell_type": "code",
   "execution_count": 2,
   "metadata": {},
   "outputs": [
    {
     "data": {
      "text/plain": [
       "True"
      ]
     },
     "execution_count": 2,
     "metadata": {},
     "output_type": "execute_result"
    }
   ],
   "source": [
    "from StartSQL import StartSQL\n",
    "\n",
    "with open('./db_config.txt') as f:\n",
    "    res = dict(map(lambda x: x.replace('\\n','').split('='), f.readlines()))\n",
    "    for i, v in res.items():\n",
    "        if v.isdigit(): res[i] = int(v)\n",
    "tmp = StartSQL(res['user'], res['password'], res['database'])\n",
    "cols = 'id int not null, name varchar(16), email varchar(32), phone varchar(16), major varchar(16)'\n",
    "tmp.create_table('student', cols)\n",
    "tmp.select_table('student')\n",
    "tmp.insert(1,'김아무개','mymail@github.com','010-1234-1234','사회과학')\n",
    "manyList = [[2, '이아무개', 'yourmail@github.com', '010-1234-5678','자연과학'],\n",
    "            [3, '박아무개', 'theirmail@github.com', '010-5678-5678','인문학']]\n",
    "tmp.insert_many(manyList)"
   ]
  },
  {
   "cell_type": "code",
   "execution_count": 3,
   "metadata": {},
   "outputs": [
    {
     "data": {
      "text/html": [
       "<div>\n",
       "<style scoped>\n",
       "    .dataframe tbody tr th:only-of-type {\n",
       "        vertical-align: middle;\n",
       "    }\n",
       "\n",
       "    .dataframe tbody tr th {\n",
       "        vertical-align: top;\n",
       "    }\n",
       "\n",
       "    .dataframe thead th {\n",
       "        text-align: right;\n",
       "    }\n",
       "</style>\n",
       "<table border=\"1\" class=\"dataframe\">\n",
       "  <thead>\n",
       "    <tr style=\"text-align: right;\">\n",
       "      <th></th>\n",
       "      <th>0</th>\n",
       "      <th>1</th>\n",
       "      <th>2</th>\n",
       "      <th>3</th>\n",
       "      <th>4</th>\n",
       "    </tr>\n",
       "  </thead>\n",
       "  <tbody>\n",
       "    <tr>\n",
       "      <th>0</th>\n",
       "      <td>1</td>\n",
       "      <td>김아무개</td>\n",
       "      <td>mymail@github.com</td>\n",
       "      <td>010-1234-1234</td>\n",
       "      <td>사회과학</td>\n",
       "    </tr>\n",
       "    <tr>\n",
       "      <th>1</th>\n",
       "      <td>2</td>\n",
       "      <td>이아무개</td>\n",
       "      <td>yourmail@github.com</td>\n",
       "      <td>010-1234-5678</td>\n",
       "      <td>자연과학</td>\n",
       "    </tr>\n",
       "    <tr>\n",
       "      <th>2</th>\n",
       "      <td>3</td>\n",
       "      <td>박아무개</td>\n",
       "      <td>theirmail@github.com</td>\n",
       "      <td>010-5678-5678</td>\n",
       "      <td>인문학</td>\n",
       "    </tr>\n",
       "  </tbody>\n",
       "</table>\n",
       "</div>"
      ],
      "text/plain": [
       "   0     1                     2              3     4\n",
       "0  1  김아무개     mymail@github.com  010-1234-1234  사회과학\n",
       "1  2  이아무개   yourmail@github.com  010-1234-5678  자연과학\n",
       "2  3  박아무개  theirmail@github.com  010-5678-5678   인문학"
      ]
     },
     "execution_count": 3,
     "metadata": {},
     "output_type": "execute_result"
    }
   ],
   "source": [
    "tmp.select()"
   ]
  },
  {
   "cell_type": "code",
   "execution_count": 4,
   "metadata": {},
   "outputs": [
    {
     "data": {
      "text/html": [
       "<div>\n",
       "<style scoped>\n",
       "    .dataframe tbody tr th:only-of-type {\n",
       "        vertical-align: middle;\n",
       "    }\n",
       "\n",
       "    .dataframe tbody tr th {\n",
       "        vertical-align: top;\n",
       "    }\n",
       "\n",
       "    .dataframe thead th {\n",
       "        text-align: right;\n",
       "    }\n",
       "</style>\n",
       "<table border=\"1\" class=\"dataframe\">\n",
       "  <thead>\n",
       "    <tr style=\"text-align: right;\">\n",
       "      <th></th>\n",
       "      <th>0</th>\n",
       "      <th>1</th>\n",
       "      <th>2</th>\n",
       "      <th>3</th>\n",
       "      <th>4</th>\n",
       "    </tr>\n",
       "  </thead>\n",
       "  <tbody>\n",
       "    <tr>\n",
       "      <th>0</th>\n",
       "      <td>1</td>\n",
       "      <td>김아무개</td>\n",
       "      <td>mymail@github.com</td>\n",
       "      <td>010-1234-1234</td>\n",
       "      <td>사회과학</td>\n",
       "    </tr>\n",
       "  </tbody>\n",
       "</table>\n",
       "</div>"
      ],
      "text/plain": [
       "   0     1                  2              3     4\n",
       "0  1  김아무개  mymail@github.com  010-1234-1234  사회과학"
      ]
     },
     "execution_count": 4,
     "metadata": {},
     "output_type": "execute_result"
    }
   ],
   "source": [
    "tmp.select('*',1)"
   ]
  },
  {
   "cell_type": "code",
   "execution_count": 5,
   "metadata": {},
   "outputs": [
    {
     "data": {
      "text/html": [
       "<div>\n",
       "<style scoped>\n",
       "    .dataframe tbody tr th:only-of-type {\n",
       "        vertical-align: middle;\n",
       "    }\n",
       "\n",
       "    .dataframe tbody tr th {\n",
       "        vertical-align: top;\n",
       "    }\n",
       "\n",
       "    .dataframe thead th {\n",
       "        text-align: right;\n",
       "    }\n",
       "</style>\n",
       "<table border=\"1\" class=\"dataframe\">\n",
       "  <thead>\n",
       "    <tr style=\"text-align: right;\">\n",
       "      <th></th>\n",
       "      <th>0</th>\n",
       "    </tr>\n",
       "  </thead>\n",
       "  <tbody>\n",
       "    <tr>\n",
       "      <th>0</th>\n",
       "      <td>1</td>\n",
       "    </tr>\n",
       "  </tbody>\n",
       "</table>\n",
       "</div>"
      ],
      "text/plain": [
       "   0\n",
       "0  1"
      ]
     },
     "execution_count": 5,
     "metadata": {},
     "output_type": "execute_result"
    }
   ],
   "source": [
    "tmp.select('id',1)"
   ]
  },
  {
   "cell_type": "code",
   "execution_count": 6,
   "metadata": {},
   "outputs": [
    {
     "data": {
      "text/html": [
       "<div>\n",
       "<style scoped>\n",
       "    .dataframe tbody tr th:only-of-type {\n",
       "        vertical-align: middle;\n",
       "    }\n",
       "\n",
       "    .dataframe tbody tr th {\n",
       "        vertical-align: top;\n",
       "    }\n",
       "\n",
       "    .dataframe thead th {\n",
       "        text-align: right;\n",
       "    }\n",
       "</style>\n",
       "<table border=\"1\" class=\"dataframe\">\n",
       "  <thead>\n",
       "    <tr style=\"text-align: right;\">\n",
       "      <th></th>\n",
       "      <th>0</th>\n",
       "      <th>1</th>\n",
       "      <th>2</th>\n",
       "      <th>3</th>\n",
       "      <th>4</th>\n",
       "    </tr>\n",
       "  </thead>\n",
       "  <tbody>\n",
       "    <tr>\n",
       "      <th>0</th>\n",
       "      <td>1</td>\n",
       "      <td>김아무개</td>\n",
       "      <td>None</td>\n",
       "      <td>010-1234-1234</td>\n",
       "      <td>사회과학</td>\n",
       "    </tr>\n",
       "    <tr>\n",
       "      <th>1</th>\n",
       "      <td>2</td>\n",
       "      <td>이아무개</td>\n",
       "      <td>yourmail@github.com</td>\n",
       "      <td>010-1234-5678</td>\n",
       "      <td>자연과학</td>\n",
       "    </tr>\n",
       "    <tr>\n",
       "      <th>2</th>\n",
       "      <td>3</td>\n",
       "      <td>박아무개</td>\n",
       "      <td>theirmail@github.com</td>\n",
       "      <td>010-5678-5678</td>\n",
       "      <td>인문학</td>\n",
       "    </tr>\n",
       "  </tbody>\n",
       "</table>\n",
       "</div>"
      ],
      "text/plain": [
       "   0     1                     2              3     4\n",
       "0  1  김아무개                  None  010-1234-1234  사회과학\n",
       "1  2  이아무개   yourmail@github.com  010-1234-5678  자연과학\n",
       "2  3  박아무개  theirmail@github.com  010-5678-5678   인문학"
      ]
     },
     "execution_count": 6,
     "metadata": {},
     "output_type": "execute_result"
    }
   ],
   "source": [
    "tmp.update('None','email',1)\n",
    "tmp.select()"
   ]
  },
  {
   "cell_type": "code",
   "execution_count": 7,
   "metadata": {},
   "outputs": [
    {
     "data": {
      "text/html": [
       "<div>\n",
       "<style scoped>\n",
       "    .dataframe tbody tr th:only-of-type {\n",
       "        vertical-align: middle;\n",
       "    }\n",
       "\n",
       "    .dataframe tbody tr th {\n",
       "        vertical-align: top;\n",
       "    }\n",
       "\n",
       "    .dataframe thead th {\n",
       "        text-align: right;\n",
       "    }\n",
       "</style>\n",
       "<table border=\"1\" class=\"dataframe\">\n",
       "  <thead>\n",
       "    <tr style=\"text-align: right;\">\n",
       "      <th></th>\n",
       "      <th>0</th>\n",
       "      <th>1</th>\n",
       "      <th>2</th>\n",
       "      <th>3</th>\n",
       "      <th>4</th>\n",
       "    </tr>\n",
       "  </thead>\n",
       "  <tbody>\n",
       "    <tr>\n",
       "      <th>0</th>\n",
       "      <td>1</td>\n",
       "      <td>김아무개</td>\n",
       "      <td>None</td>\n",
       "      <td>010-1234-1234</td>\n",
       "      <td>사회과학</td>\n",
       "    </tr>\n",
       "    <tr>\n",
       "      <th>1</th>\n",
       "      <td>3</td>\n",
       "      <td>박아무개</td>\n",
       "      <td>theirmail@github.com</td>\n",
       "      <td>010-5678-5678</td>\n",
       "      <td>인문학</td>\n",
       "    </tr>\n",
       "  </tbody>\n",
       "</table>\n",
       "</div>"
      ],
      "text/plain": [
       "   0     1                     2              3     4\n",
       "0  1  김아무개                  None  010-1234-1234  사회과학\n",
       "1  3  박아무개  theirmail@github.com  010-5678-5678   인문학"
      ]
     },
     "execution_count": 7,
     "metadata": {},
     "output_type": "execute_result"
    }
   ],
   "source": [
    "tmp.delete(2)\n",
    "tmp.select()"
   ]
  },
  {
   "cell_type": "code",
   "execution_count": 8,
   "metadata": {},
   "outputs": [],
   "source": [
    "tmp.end()"
   ]
  }
 ],
 "metadata": {
  "kernelspec": {
   "display_name": "base",
   "language": "python",
   "name": "python3"
  },
  "language_info": {
   "codemirror_mode": {
    "name": "ipython",
    "version": 3
   },
   "file_extension": ".py",
   "mimetype": "text/x-python",
   "name": "python",
   "nbconvert_exporter": "python",
   "pygments_lexer": "ipython3",
   "version": "3.10.11"
  },
  "orig_nbformat": 4
 },
 "nbformat": 4,
 "nbformat_minor": 2
}
