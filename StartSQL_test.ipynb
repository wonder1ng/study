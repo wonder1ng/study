{
 "cells": [
  {
   "cell_type": "code",
   "execution_count": 6,
   "metadata": {},
   "outputs": [],
   "source": [
    "import pymysql\n",
    "import pandas as pd\n",
    "\n",
    "con = pymysql.connect(host='localhost',\n",
    "                      port=3306,\n",
    "                      user='temp',\n",
    "                      password='1q2w3e4r',\n",
    "                      database='study',\n",
    "                      charset='utf8mb4')\n",
    "cur = con.cursor()\n",
    "# cur.execute('create table student(id int not null, name varchar(16), email varchar(32), phone varchar(16), major varchar(16))')\n",
    "table = 'student'\n",
    "cols = 'id int not null, name varchar(16), email varchar(32), phone varchar(16), major varchar(16)'\n",
    "cur.execute(f'create table {table}({cols})')\n",
    "\n",
    "cur.execute('insert into student values(1, \"이종혁\", \"xhxhfh333@hanmail.net\", \"010-6239-79222\", \"일반행정\")')\n",
    "cur.execute('select * from student')\n",
    "print('first\\n', pd.DataFrame(cur.fetchall()), '\\n')\n",
    "cur.execute('update student set email=\"wonder1ng@velog.io\" where id=1')\n",
    "cur.execute('select * from student')\n",
    "print('second\\n', pd.DataFrame(cur.fetchall()), '\\n')\n",
    "cur.execute('delete from student where id=1')\n",
    "cur.execute('select * from student')\n",
    "print('third\\n', pd.DataFrame(cur.fetchall()), '\\n')\n",
    "cur.execute('desc student')\n",
    "print('third\\n', pd.DataFrame(cur.fetchall()), '\\n')\n",
    "cur.execute('drop table student')\n",
    "con.close()"
   ]
  },
  {
   "cell_type": "code",
   "execution_count": 1,
   "metadata": {},
   "outputs": [
    {
     "data": {
      "text/plain": [
       "True"
      ]
     },
     "execution_count": 1,
     "metadata": {},
     "output_type": "execute_result"
    }
   ],
   "source": [
    "from StartSQL import StartSQL\n",
    "\n",
    "tmp = StartSQL('temp', '1q2w3e4r', 'study')\n",
    "cols = 'id int not null, name varchar(16), email varchar(32), phone varchar(16), major varchar(16)'\n",
    "tmp.create_table('student', cols)\n",
    "tmp.select_table('student')\n",
    "tmp.insert(1,'이종혁','xhxhfh333@hanmail.net','010-6239-7922','일반행정')\n",
    "manyList = [[2, '이종혁2', 'xhxhfh333@velog.io', '010-1234-5678','행정경찰학부'],\n",
    "            [3, '이종혁3', 'xhxhfh333@gamil.com', '0106239-7922','이과']]\n",
    "tmp.insert_many(manyList)"
   ]
  },
  {
   "cell_type": "code",
   "execution_count": 2,
   "metadata": {},
   "outputs": [
    {
     "data": {
      "text/html": [
       "<div>\n",
       "<style scoped>\n",
       "    .dataframe tbody tr th:only-of-type {\n",
       "        vertical-align: middle;\n",
       "    }\n",
       "\n",
       "    .dataframe tbody tr th {\n",
       "        vertical-align: top;\n",
       "    }\n",
       "\n",
       "    .dataframe thead th {\n",
       "        text-align: right;\n",
       "    }\n",
       "</style>\n",
       "<table border=\"1\" class=\"dataframe\">\n",
       "  <thead>\n",
       "    <tr style=\"text-align: right;\">\n",
       "      <th></th>\n",
       "      <th>0</th>\n",
       "      <th>1</th>\n",
       "      <th>2</th>\n",
       "      <th>3</th>\n",
       "      <th>4</th>\n",
       "    </tr>\n",
       "  </thead>\n",
       "  <tbody>\n",
       "    <tr>\n",
       "      <th>0</th>\n",
       "      <td>1</td>\n",
       "      <td>이종혁</td>\n",
       "      <td>xhxhfh333@hanmail.net</td>\n",
       "      <td>010-6239-7922</td>\n",
       "      <td>일반행정</td>\n",
       "    </tr>\n",
       "    <tr>\n",
       "      <th>1</th>\n",
       "      <td>2</td>\n",
       "      <td>이종혁2</td>\n",
       "      <td>xhxhfh333@velog.io</td>\n",
       "      <td>010-1234-5678</td>\n",
       "      <td>행정경찰학부</td>\n",
       "    </tr>\n",
       "    <tr>\n",
       "      <th>2</th>\n",
       "      <td>3</td>\n",
       "      <td>이종혁3</td>\n",
       "      <td>xhxhfh333@gamil.com</td>\n",
       "      <td>0106239-7922</td>\n",
       "      <td>이과</td>\n",
       "    </tr>\n",
       "  </tbody>\n",
       "</table>\n",
       "</div>"
      ],
      "text/plain": [
       "   0     1                      2              3       4\n",
       "0  1   이종혁  xhxhfh333@hanmail.net  010-6239-7922    일반행정\n",
       "1  2  이종혁2     xhxhfh333@velog.io  010-1234-5678  행정경찰학부\n",
       "2  3  이종혁3    xhxhfh333@gamil.com   0106239-7922      이과"
      ]
     },
     "execution_count": 2,
     "metadata": {},
     "output_type": "execute_result"
    }
   ],
   "source": [
    "tmp.select()"
   ]
  },
  {
   "cell_type": "code",
   "execution_count": 3,
   "metadata": {},
   "outputs": [
    {
     "data": {
      "text/html": [
       "<div>\n",
       "<style scoped>\n",
       "    .dataframe tbody tr th:only-of-type {\n",
       "        vertical-align: middle;\n",
       "    }\n",
       "\n",
       "    .dataframe tbody tr th {\n",
       "        vertical-align: top;\n",
       "    }\n",
       "\n",
       "    .dataframe thead th {\n",
       "        text-align: right;\n",
       "    }\n",
       "</style>\n",
       "<table border=\"1\" class=\"dataframe\">\n",
       "  <thead>\n",
       "    <tr style=\"text-align: right;\">\n",
       "      <th></th>\n",
       "      <th>0</th>\n",
       "      <th>1</th>\n",
       "      <th>2</th>\n",
       "      <th>3</th>\n",
       "      <th>4</th>\n",
       "    </tr>\n",
       "  </thead>\n",
       "  <tbody>\n",
       "    <tr>\n",
       "      <th>0</th>\n",
       "      <td>1</td>\n",
       "      <td>이종혁</td>\n",
       "      <td>xhxhfh333@hanmail.net</td>\n",
       "      <td>010-6239-7922</td>\n",
       "      <td>일반행정</td>\n",
       "    </tr>\n",
       "  </tbody>\n",
       "</table>\n",
       "</div>"
      ],
      "text/plain": [
       "   0    1                      2              3     4\n",
       "0  1  이종혁  xhxhfh333@hanmail.net  010-6239-7922  일반행정"
      ]
     },
     "execution_count": 3,
     "metadata": {},
     "output_type": "execute_result"
    }
   ],
   "source": [
    "tmp.select('*',1)"
   ]
  },
  {
   "cell_type": "code",
   "execution_count": 4,
   "metadata": {},
   "outputs": [
    {
     "data": {
      "text/html": [
       "<div>\n",
       "<style scoped>\n",
       "    .dataframe tbody tr th:only-of-type {\n",
       "        vertical-align: middle;\n",
       "    }\n",
       "\n",
       "    .dataframe tbody tr th {\n",
       "        vertical-align: top;\n",
       "    }\n",
       "\n",
       "    .dataframe thead th {\n",
       "        text-align: right;\n",
       "    }\n",
       "</style>\n",
       "<table border=\"1\" class=\"dataframe\">\n",
       "  <thead>\n",
       "    <tr style=\"text-align: right;\">\n",
       "      <th></th>\n",
       "      <th>0</th>\n",
       "    </tr>\n",
       "  </thead>\n",
       "  <tbody>\n",
       "    <tr>\n",
       "      <th>0</th>\n",
       "      <td>1</td>\n",
       "    </tr>\n",
       "  </tbody>\n",
       "</table>\n",
       "</div>"
      ],
      "text/plain": [
       "   0\n",
       "0  1"
      ]
     },
     "execution_count": 4,
     "metadata": {},
     "output_type": "execute_result"
    }
   ],
   "source": [
    "tmp.select('id',1)"
   ]
  },
  {
   "cell_type": "code",
   "execution_count": 5,
   "metadata": {},
   "outputs": [
    {
     "data": {
      "text/html": [
       "<div>\n",
       "<style scoped>\n",
       "    .dataframe tbody tr th:only-of-type {\n",
       "        vertical-align: middle;\n",
       "    }\n",
       "\n",
       "    .dataframe tbody tr th {\n",
       "        vertical-align: top;\n",
       "    }\n",
       "\n",
       "    .dataframe thead th {\n",
       "        text-align: right;\n",
       "    }\n",
       "</style>\n",
       "<table border=\"1\" class=\"dataframe\">\n",
       "  <thead>\n",
       "    <tr style=\"text-align: right;\">\n",
       "      <th></th>\n",
       "      <th>0</th>\n",
       "      <th>1</th>\n",
       "      <th>2</th>\n",
       "      <th>3</th>\n",
       "      <th>4</th>\n",
       "    </tr>\n",
       "  </thead>\n",
       "  <tbody>\n",
       "    <tr>\n",
       "      <th>0</th>\n",
       "      <td>1</td>\n",
       "      <td>이종혁</td>\n",
       "      <td>None</td>\n",
       "      <td>010-6239-7922</td>\n",
       "      <td>일반행정</td>\n",
       "    </tr>\n",
       "    <tr>\n",
       "      <th>1</th>\n",
       "      <td>2</td>\n",
       "      <td>이종혁2</td>\n",
       "      <td>xhxhfh333@velog.io</td>\n",
       "      <td>010-1234-5678</td>\n",
       "      <td>행정경찰학부</td>\n",
       "    </tr>\n",
       "    <tr>\n",
       "      <th>2</th>\n",
       "      <td>3</td>\n",
       "      <td>이종혁3</td>\n",
       "      <td>xhxhfh333@gamil.com</td>\n",
       "      <td>0106239-7922</td>\n",
       "      <td>이과</td>\n",
       "    </tr>\n",
       "  </tbody>\n",
       "</table>\n",
       "</div>"
      ],
      "text/plain": [
       "   0     1                    2              3       4\n",
       "0  1   이종혁                 None  010-6239-7922    일반행정\n",
       "1  2  이종혁2   xhxhfh333@velog.io  010-1234-5678  행정경찰학부\n",
       "2  3  이종혁3  xhxhfh333@gamil.com   0106239-7922      이과"
      ]
     },
     "execution_count": 5,
     "metadata": {},
     "output_type": "execute_result"
    }
   ],
   "source": [
    "tmp.update('None','email',1)\n",
    "tmp.select()"
   ]
  },
  {
   "cell_type": "code",
   "execution_count": 6,
   "metadata": {},
   "outputs": [
    {
     "data": {
      "text/html": [
       "<div>\n",
       "<style scoped>\n",
       "    .dataframe tbody tr th:only-of-type {\n",
       "        vertical-align: middle;\n",
       "    }\n",
       "\n",
       "    .dataframe tbody tr th {\n",
       "        vertical-align: top;\n",
       "    }\n",
       "\n",
       "    .dataframe thead th {\n",
       "        text-align: right;\n",
       "    }\n",
       "</style>\n",
       "<table border=\"1\" class=\"dataframe\">\n",
       "  <thead>\n",
       "    <tr style=\"text-align: right;\">\n",
       "      <th></th>\n",
       "      <th>0</th>\n",
       "      <th>1</th>\n",
       "      <th>2</th>\n",
       "      <th>3</th>\n",
       "      <th>4</th>\n",
       "    </tr>\n",
       "  </thead>\n",
       "  <tbody>\n",
       "    <tr>\n",
       "      <th>0</th>\n",
       "      <td>1</td>\n",
       "      <td>이종혁</td>\n",
       "      <td>None</td>\n",
       "      <td>010-6239-7922</td>\n",
       "      <td>일반행정</td>\n",
       "    </tr>\n",
       "    <tr>\n",
       "      <th>1</th>\n",
       "      <td>3</td>\n",
       "      <td>이종혁3</td>\n",
       "      <td>xhxhfh333@gamil.com</td>\n",
       "      <td>0106239-7922</td>\n",
       "      <td>이과</td>\n",
       "    </tr>\n",
       "  </tbody>\n",
       "</table>\n",
       "</div>"
      ],
      "text/plain": [
       "   0     1                    2              3     4\n",
       "0  1   이종혁                 None  010-6239-7922  일반행정\n",
       "1  3  이종혁3  xhxhfh333@gamil.com   0106239-7922    이과"
      ]
     },
     "execution_count": 6,
     "metadata": {},
     "output_type": "execute_result"
    }
   ],
   "source": [
    "tmp.delete(2)\n",
    "tmp.select()"
   ]
  },
  {
   "cell_type": "code",
   "execution_count": 7,
   "metadata": {},
   "outputs": [],
   "source": [
    "tmp.end()"
   ]
  }
 ],
 "metadata": {
  "kernelspec": {
   "display_name": "base",
   "language": "python",
   "name": "python3"
  },
  "language_info": {
   "codemirror_mode": {
    "name": "ipython",
    "version": 3
   },
   "file_extension": ".py",
   "mimetype": "text/x-python",
   "name": "python",
   "nbconvert_exporter": "python",
   "pygments_lexer": "ipython3",
   "version": "3.10.11"
  },
  "orig_nbformat": 4
 },
 "nbformat": 4,
 "nbformat_minor": 2
}
