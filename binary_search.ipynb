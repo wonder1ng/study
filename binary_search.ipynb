{
 "cells": [
  {
   "attachments": {},
   "cell_type": "markdown",
   "metadata": {},
   "source": [
    "## 이진탐색"
   ]
  },
  {
   "cell_type": "code",
   "execution_count": 11,
   "metadata": {},
   "outputs": [],
   "source": [
    "import random\n",
    "datas = random.sample(range(1,1001),1000)\n",
    "datas = sorted(datas)\n",
    "\n",
    "sI = 0\n",
    "eI = len(datas)\t\t\t# len()-1이 맞지만 코드 구동 문제로 -1 미기재\n",
    "m = (sI+eI)//2\n",
    "n = float(input('number for finding: '))\t# 없는 숫자 입력 위해 int 대신 float 사용.\n",
    "eCnt = 0\t\t\t\t# 검색 실패 시 탈출용\n",
    "while datas[m] != n:\n",
    "    if datas[m] > n:\n",
    "        eI = m\n",
    "        m = (sI+eI) // 2\n",
    "    else:\n",
    "        sI = m\n",
    "        m = ((sI + eI) // 2)\n",
    "    if sI == m or eI == m:\t\t\t\t# 검색 실패 시 탈출문인데 반복문마다 실행된다.\n",
    "        if eCnt == 2:\n",
    "            print(f'datas donse\\'t have {n}')\n",
    "            break\n",
    "        eCnt += 1\n",
    "else: print(f'datas{[m]} is {n}')"
   ]
  },
  {
   "attachments": {},
   "cell_type": "markdown",
   "metadata": {},
   "source": [
    "## 선형탐색"
   ]
  },
  {
   "cell_type": "code",
   "execution_count": 1,
   "metadata": {},
   "outputs": [],
   "source": [
    "n = int(input('number for finding: '))\n",
    "datas = [3, 2, 5, 7, 9, 1, 0, 8, 6, 4]\n",
    "i = 0\n",
    "while i != len(datas):\n",
    "    print(f'datas[{i}] is {n}!!') if n == datas[i] else print(f'datas[{i}] is not {n}!!')\n",
    "    i += 1"
   ]
  },
  {
   "cell_type": "code",
   "execution_count": null,
   "metadata": {},
   "outputs": [],
   "source": [
    "# 보초범\n",
    "n = int(input('number for finding: '))\n",
    "datas = [3, 2, 5, 7, 9, 1, 0, 8, 6, 4]\n",
    "i = 0\n",
    "datas += [n]\n",
    "while i != len(datas):\n",
    "    if n == datas[i] and i+1 == len(datas) :\n",
    "        print(f'datas dosen\\'t have {n}!!')\n",
    "    elif n == datas[i] :\n",
    "        print(f'datas[{i}] is {n}!!')\n",
    "        break\n",
    "    i += 1"
   ]
  }
 ],
 "metadata": {
  "kernelspec": {
   "display_name": "base",
   "language": "python",
   "name": "python3"
  },
  "language_info": {
   "codemirror_mode": {
    "name": "ipython",
    "version": 3
   },
   "file_extension": ".py",
   "mimetype": "text/x-python",
   "name": "python",
   "nbconvert_exporter": "python",
   "pygments_lexer": "ipython3",
   "version": "3.9.13"
  },
  "orig_nbformat": 4
 },
 "nbformat": 4,
 "nbformat_minor": 2
}
